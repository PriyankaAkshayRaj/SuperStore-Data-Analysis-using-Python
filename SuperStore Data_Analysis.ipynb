{
 "cells": [
  {
   "cell_type": "markdown",
   "id": "55509d19-5008-42a3-9f9e-d973be7977cb",
   "metadata": {},
   "source": [
    "# Superstore Data Analysis Report\n",
    "\n",
    "## Introduction\n",
    "This report presents an analysis of the Superstore dataset. The project aimed to explore sales trends, customer behavior, and operational metrics. The steps included data cleaning, exploratory data analysis (EDA), feature engineering, and visualization to uncover key insights for informed decision-making.\n",
    "\n"
   ]
  },
  {
   "cell_type": "code",
   "execution_count": null,
   "id": "a516ca08-e009-4e4a-8645-24f55fdbcdac",
   "metadata": {},
   "outputs": [],
   "source": [
    "import pandas as pd\n",
    "\n",
    "df = pd.read_csv('C:/Users/HP/Documents/DATA ANALYSIS/complete data analysis project/archive/train.csv')\n",
    "\n",
    "#print(df.info())\n",
    "print(df.head())\n",
    "#print(df.describe())"
   ]
  },
  {
   "cell_type": "markdown",
   "id": "417820e7-a275-41c2-b90b-44ad190c6d4a",
   "metadata": {},
   "source": [
    "## Data Cleaning\n",
    "Steps undertaken to ensure clean and accurate data:\n",
    "1. Converted `Order Date` and `Ship Date` to datetime format.\n",
    "2. Removed duplicate rows.\n",
    "3. Handled missing values.\n"
   ]
  },
  {
   "cell_type": "code",
   "execution_count": null,
   "id": "e444ba20-18e8-4076-94f9-e4fcf0204619",
   "metadata": {},
   "outputs": [],
   "source": [
    "###Data Cleaning\n",
    "\n",
    "print(df.isnull().sum())\n",
    "\n",
    "#Check Data types of date and time.\n",
    "#df['Order Date'] = pd.to_datetime(df['Order Date']) \n",
    "#The error indicates that the Order Date column contains strings that do not match the default date format Python expects, causing \n",
    "#a mismatch. In your case, the string format\n",
    "#\"15-04-2018\" suggests that the day comes first, followed by the month and year (\"%d-%m-%Y\").\n",
    "\n",
    "df['Order Date'] = pd.to_datetime(df['Order Date'], dayfirst=True)\n",
    "df['Ship Date'] = pd.to_datetime(df['Ship Date'], dayfirst =True)\n",
    "\n",
    "#Remove Duplicates \n",
    "df = df.drop_duplicates()\n",
    "print(\"Data cleaned successfully.\")"
   ]
  },
  {
   "cell_type": "markdown",
   "id": "7284c98f-7626-4828-a6da-46fbca97e7c0",
   "metadata": {},
   "source": [
    "## Exploratory Data Analysis (EDA)\n",
    "\n",
    "### Key Findings:\n",
    "1. **Sales Distribution**: Most sales values are small, with occasional high-value transactions.\n",
    "2. **Category Performance**: Category frequency shows \"Office Supplies\" is ordered the most.\n",
    "3. **Regional Trends**: Sales vary significantly by region, with some regions underperforming.\n"
   ]
  },
  {
   "cell_type": "code",
   "execution_count": null,
   "id": "e64381dd-b175-4882-bf6a-6d30f431bbcf",
   "metadata": {},
   "outputs": [],
   "source": [
    "#Exploratory Data Analysis (EDA)\n",
    "#I want to sales distribution \n",
    "\n",
    "import seaborn as sns\n",
    "import matplotlib.pyplot as plt\n",
    "\n",
    "\n",
    "# Sales Distribution\n",
    "sns.histplot(df['Sales'], bins=100)\n",
    "plt.title(\"Sales Distribution\")\n",
    "plt.show()\n",
    "\n",
    "# Category Frequency\n",
    "df['Category'].value_counts().plot(kind='bar', title='Category Frequency')\n",
    "plt.show()\n",
    "\n",
    "# Regional Sales\n",
    "region_sales = df.groupby('Region')['Sales'].sum().sort_values()\n",
    "region_sales.plot(kind='bar', title='Total Sales by Region')\n",
    "plt.show()\n"
   ]
  },
  {
   "cell_type": "markdown",
   "id": "99fa281f-f2d4-442e-b5fa-705eac7f78e5",
   "metadata": {},
   "source": [
    "## Bivariate Analysis\n",
    "\n",
    "### Key Findings:\n",
    "1. **Sales vs. Category**: Technology products contribute the highest sales.\n",
    "2. **Sales vs. Region**: Regions such as the South lag in overall sales.\n"
   ]
  },
  {
   "cell_type": "code",
   "execution_count": null,
   "id": "0682aaae-da6e-4b40-bbae-214e619d7526",
   "metadata": {},
   "outputs": [],
   "source": [
    "# Sales vs Category\n",
    "sns.scatterplot(x='Category', y='Sales', data=df)\n",
    "plt.title(\"Sales vs Category\")\n",
    "plt.show()\n",
    "\n",
    "# Regional Sales Plot\n",
    "region_sales.plot(kind='bar', title='Sales by Region')\n",
    "plt.show()\n"
   ]
  },
  {
   "cell_type": "markdown",
   "id": "1a7292a9-90a3-489f-82bd-31005c1adb98",
   "metadata": {},
   "source": [
    "## Time Series Analysis\n",
    "\n",
    "### Insights:\n",
    "1. Monthly sales trends indicate seasonal peaks, especially during the holiday season.\n",
    "2. Significant fluctuations in sales volume month over month.\n"
   ]
  },
  {
   "cell_type": "code",
   "execution_count": null,
   "id": "1fe39e6b-8e55-4434-8f9e-9f7ca14169fc",
   "metadata": {},
   "outputs": [],
   "source": [
    "#Time series Analysis \n",
    "#Analyse trends over time\n",
    "\n",
    "df['YearMonth'] = df['Order Date'].dt.to_period('M') #created YearMonth column that shows date as '2017-01'\n",
    "monthly_sales = df.groupby('YearMonth')['Sales'].sum()  #sum of no of sales in each month of the year.\n",
    "monthly_sales.plot(kind='line', title='Monthly Sales Trends') #plot a lne graph for sales in every month \n",
    "plt.show()"
   ]
  },
  {
   "cell_type": "markdown",
   "id": "3845e521-4067-400c-9f0a-47e8dab1623c",
   "metadata": {},
   "source": [
    "## Feature Engineering\n",
    "\n",
    "### New Features Created:\n",
    "1. **Average Order Value (AOV)**: To understand the average sales value per order.\n",
    "2. **Shipping Time**: To measure the time taken to ship products.\n"
   ]
  },
  {
   "cell_type": "code",
   "execution_count": null,
   "id": "58be2d2d-d69c-48b5-aaac-0573ab340ada",
   "metadata": {},
   "outputs": [],
   "source": [
    "#Average Order Value\n",
    "#average sales value per order.\n",
    "df['AOV']=df.groupby('Order ID')['Sales'].transform('mean')\n",
    "print(df['AOV'])\n",
    "\n",
    "\n",
    "#Feature Engineering\n",
    "#Create new metrics for deeper insights:\n",
    "df['Shipping Time'] = (df['Ship Date'] - df['Order Date']).dt.days"
   ]
  },
  {
   "cell_type": "markdown",
   "id": "c723f3d4-afbd-401c-929b-cfb8dc9380d3",
   "metadata": {},
   "source": [
    "## Advanced Visualizations\n",
    "\n",
    "### Key Visuals:\n",
    "1. **Top Products by Sales**: Identified the best-selling products.\n",
    "2. **Heatmap of Sales by Region and Category**: Highlighted sales performance across regions and product categories.\n"
   ]
  },
  {
   "cell_type": "code",
   "execution_count": null,
   "id": "c82d8e35-052e-440c-916e-09b5b12e412d",
   "metadata": {},
   "outputs": [],
   "source": [
    "'''7. Data Visualization\n",
    "Create advanced visualizations'''\n",
    "\n",
    "# Top 10 products by sales\n",
    "top_products = df.groupby('Product Name')['Sales'].sum().nlargest(10)\n",
    "top_products.plot(kind='barh')\n",
    "plt.show()\n",
    "\n",
    "# Heatmap of sales by Region and Category\n",
    "sales_pivot = df.pivot_table(values='Sales', index='Region', columns='Category', aggfunc='sum')\n",
    "sns.heatmap(sales_pivot, annot=True, fmt=\".0f\", cmap='coolwarm')\n",
    "plt.show()\n"
   ]
  },
  {
   "cell_type": "markdown",
   "id": "bd062ab7-7084-401a-97e2-1689f2f99cfc",
   "metadata": {},
   "source": [
    "## Insights and Recommendations\n",
    "\n",
    "### Insights:\n",
    "1. The \"Technology\" category contributes significantly to overall sales, while \"Furniture\" underperforms.\n",
    "2. The South region requires targeted strategies to boost sales.\n",
    "3. Peak sales occur during the holiday season, indicating strong seasonal trends.\n",
    "\n",
    "### Recommendations:\n",
    "1. Focus on promoting \"Furniture\" to increase category sales.\n",
    "2. Implement targeted campaigns in underperforming regions.\n",
    "3. Leverage holiday season trends for marketing efforts.\n"
   ]
  },
  {
   "cell_type": "markdown",
   "id": "0946e27f-c79d-45b1-8bb8-1a3df548502e",
   "metadata": {},
   "source": [
    "## Automation of Analysis\n",
    "\n",
    "The analysis can be automated using a scheduled script to generate daily insights. This helps ensure timely decision-making without manual effort.\n"
   ]
  },
  {
   "cell_type": "code",
   "execution_count": null,
   "id": "0ad38ec4-fe89-46ca-9c63-2a7758161c70",
   "metadata": {},
   "outputs": [],
   "source": [
    " '''Automate the Analysis (Optional)\n",
    "Automate repetitive analysis tasks'''\n",
    "!pip install schedule\n",
    "import schedule\n",
    "import time\n",
    "\n",
    "def run_analysis():\n",
    "    # Add analysis script here\n",
    "    print(\"Analysis completed!\")\n",
    "\n",
    "schedule.every().day.at(\"09:00\").do(run_analysis)\n",
    "\n",
    "while True:\n",
    "    schedule.run_pending()\n",
    "    time.sleep(1)\n",
    "\n",
    "\n"
   ]
  }
 ],
 "metadata": {
  "kernelspec": {
   "display_name": "Python 3 (ipykernel)",
   "language": "python",
   "name": "python3"
  },
  "language_info": {
   "codemirror_mode": {
    "name": "ipython",
    "version": 3
   },
   "file_extension": ".py",
   "mimetype": "text/x-python",
   "name": "python",
   "nbconvert_exporter": "python",
   "pygments_lexer": "ipython3",
   "version": "3.12.2"
  }
 },
 "nbformat": 4,
 "nbformat_minor": 5
}
